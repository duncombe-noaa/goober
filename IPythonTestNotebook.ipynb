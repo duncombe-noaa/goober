{
 "metadata": {
  "name": "",
  "signature": "sha256:ceceaf2d887261d18c2c860cef099ccce6b28721f7b0bc94ec97b567039fee16"
 },
 "nbformat": 3,
 "nbformat_minor": 0,
 "worksheets": [
  {
   "cells": [
    {
     "cell_type": "code",
     "collapsed": false,
     "input": [
      "print \"Hello World!\"\n"
     ],
     "language": "python",
     "metadata": {},
     "outputs": [
      {
       "output_type": "stream",
       "stream": "stdout",
       "text": [
        "Hello World!\n"
       ]
      }
     ],
     "prompt_number": 1
    },
    {
     "cell_type": "markdown",
     "metadata": {},
     "source": [
      "$a=1+1$ should be an inline math formula, while $$1+1=2$$ should be a displayed equation, centered and on its own line.\n"
     ]
    },
    {
     "cell_type": "markdown",
     "metadata": {},
     "source": [
      "How does Markdown appear if we do this\n",
      "======================================\n",
      "\n",
      "kind of what youuyexpect from dou=ble underlined text\n",
      "\n",
      "\n",
      "What about this\n",
      "---------------\n",
      "slightly smaller, also expected\n",
      "> what \n",
      ">  is \n",
      "> this\n",
      ">> and this\n",
      ">> is on the \n",
      ">> next line \n",
      "\n",
      "and now\n",
      "1. numbered list\n",
      "2. second item \n",
      "     1. indented\n",
      "     * list\n",
      "     * list\n",
      "       * list\n",
      "       * list\n",
      "     2. a bit\n",
      "\n",
      "# Hash Heading\n",
      "\n",
      "## double hashed heading"
     ]
    },
    {
     "cell_type": "code",
     "collapsed": false,
     "input": [],
     "language": "python",
     "metadata": {},
     "outputs": [],
     "prompt_number": 0
    },
    {
     "cell_type": "code",
     "collapsed": false,
     "input": [],
     "language": "python",
     "metadata": {},
     "outputs": []
    }
   ],
   "metadata": {}
  }
 ]
}